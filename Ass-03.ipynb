{
 "cells": [
  {
   "cell_type": "code",
   "execution_count": 10,
   "metadata": {},
   "outputs": [
    {
     "name": "stdout",
     "output_type": "stream",
     "text": [
      "Enter marks of the Biology subject: 90\n",
      "Enter marks of the Chemistery subject: 94\n",
      "Enter marks of the English subject: 92\n",
      "Enter marks of the Physics subject: 99\n",
      "Enter marks of the Computer subject: 91\n",
      "Grade: A\n"
     ]
    }
   ],
   "source": [
    "sub1=int(input(\"Enter marks of the Biology subject: \"))\n",
    "sub2=int(input(\"Enter marks of the Chemistery subject: \"))\n",
    "sub3=int(input(\"Enter marks of the English subject: \"))\n",
    "sub4=int(input(\"Enter marks of the Physics subject: \"))\n",
    "sub5=int(input(\"Enter marks of the Computer subject: \"))\n",
    "avg=(sub1+sub2+sub3+sub4+sub4)/5\n",
    "if(avg>=90):\n",
    "    print(\"Grade: A\")\n",
    "elif(avg>=80&avg<90):\n",
    "    print(\"Grade: B\")\n",
    "elif(avg>=70&avg<80):\n",
    "    print(\"Grade: C\")\n",
    "elif(avg>=60&avg<70):\n",
    "    print(\"Grade: D\")\n",
    "else:\n",
    "    print(\"Grade: F\")\n",
    "    "
   ]
  },
  {
   "cell_type": "code",
   "execution_count": 6,
   "metadata": {},
   "outputs": [
    {
     "name": "stdout",
     "output_type": "stream",
     "text": [
      "Enter Any Number! 44\n",
      "This is Even Number\n"
     ]
    }
   ],
   "source": [
    "num = int(input(\"Enter Any Number! \"))\n",
    "mod = num%2\n",
    "if mod > 0:\n",
    "    print(\"This is Odd Number \")\n",
    "else:\n",
    "    print(\"This is Even Number\")"
   ]
  },
  {
   "cell_type": "code",
   "execution_count": 3,
   "metadata": {},
   "outputs": [
    {
     "name": "stdout",
     "output_type": "stream",
     "text": [
      "Total Sum of all element is :  150\n"
     ]
    },
    {
     "data": {
      "text/plain": [
       "'total = 0\\nfor i in range(0 , len(listt)):\\n    total = total + listt[i]\\nprint(total)\\n'"
      ]
     },
     "execution_count": 3,
     "metadata": {},
     "output_type": "execute_result"
    }
   ],
   "source": [
    "#1st Method\n",
    "listt = [10 , 20 , 30 , 40 , 50]\n",
    "print(\"Total Sum of all element is : \" , sum(listt))\n",
    "\n",
    "#2nd Method\n",
    "\"\"\"total = 0\n",
    "for i in range(0 , len(listt)):\n",
    "    total = total + listt[i]\n",
    "print(total)\n",
    "\"\"\""
   ]
  },
  {
   "cell_type": "code",
   "execution_count": 4,
   "metadata": {},
   "outputs": [
    {
     "name": "stdout",
     "output_type": "stream",
     "text": [
      "The lenth of List is:  5\n"
     ]
    }
   ],
   "source": [
    "num = len([10 , 20 , 30 , 40 , 50])\n",
    "\n",
    "print (\"The lenth of List is: \" , num)"
   ]
  },
  {
   "cell_type": "code",
   "execution_count": 1,
   "metadata": {},
   "outputs": [
    {
     "name": "stdout",
     "output_type": "stream",
     "text": [
      "The maximum number is:  54\n"
     ]
    }
   ],
   "source": [
    "value =[1,1,2,3,5,8,13,21, 34, 48, 54 ]\n",
    "print(\"The maximum number is: \" ,max(value)) "
   ]
  },
  {
   "cell_type": "code",
   "execution_count": 2,
   "metadata": {},
   "outputs": [
    {
     "name": "stdout",
     "output_type": "stream",
     "text": [
      "The minimum number is:  1\n"
     ]
    }
   ],
   "source": [
    "value =[1,2,3,5,8,13,21, 34, 48, 54 ]\n",
    "print(\"The minimum number is: \" ,min(value)) "
   ]
  }
 ],
 "metadata": {
  "kernelspec": {
   "display_name": "Python 3",
   "language": "python",
   "name": "python3"
  },
  "language_info": {
   "codemirror_mode": {
    "name": "ipython",
    "version": 3
   },
   "file_extension": ".py",
   "mimetype": "text/x-python",
   "name": "python",
   "nbconvert_exporter": "python",
   "pygments_lexer": "ipython3",
   "version": "3.7.0"
  }
 },
 "nbformat": 4,
 "nbformat_minor": 2
}
